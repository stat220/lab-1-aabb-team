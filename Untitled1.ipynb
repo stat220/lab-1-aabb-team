{
  "cells": [
    {
      "cell_type": "code",
      "execution_count": 2,
      "metadata": {
        "id": "8VUeSmQTuCHZ"
      },
      "outputs": [],
      "source": [
        "import pandas as pd\n",
        "import matplotlib.pyplot as plt\n",
        "from sklearn.linear_model import LinearRegression\n",
        "import numpy as np\n",
        "salaries = pd.read_csv(\"https://richardson.byu.edu/220/ds_salary.csv\")\n"
      ]
    },
    {
      "cell_type": "markdown",
      "metadata": {},
      "source": [
        "# Section 1: General Salary Data"
      ]
    },
    {
      "cell_type": "code",
      "execution_count": 3,
      "metadata": {
        "colab": {
          "base_uri": "https://localhost:8080/",
          "height": 475
        },
        "id": "AzB7HLl8uaxm",
        "outputId": "1e5f5cd8-4db9-4ca6-96bd-d6c2ed15b9a1"
      },
      "outputs": [
        {
          "data": {
            "text/html": [
              "<div>\n",
              "<style scoped>\n",
              "    .dataframe tbody tr th:only-of-type {\n",
              "        vertical-align: middle;\n",
              "    }\n",
              "\n",
              "    .dataframe tbody tr th {\n",
              "        vertical-align: top;\n",
              "    }\n",
              "\n",
              "    .dataframe thead th {\n",
              "        text-align: right;\n",
              "    }\n",
              "</style>\n",
              "<table border=\"1\" class=\"dataframe\">\n",
              "  <thead>\n",
              "    <tr style=\"text-align: right;\">\n",
              "      <th></th>\n",
              "      <th>...1</th>\n",
              "      <th>work_year</th>\n",
              "      <th>experience_level</th>\n",
              "      <th>employment_type</th>\n",
              "      <th>job_title</th>\n",
              "      <th>salary</th>\n",
              "      <th>salary_currency</th>\n",
              "      <th>salary_in_usd</th>\n",
              "      <th>employee_residence</th>\n",
              "      <th>remote_ratio</th>\n",
              "      <th>company_location</th>\n",
              "      <th>company_size</th>\n",
              "    </tr>\n",
              "  </thead>\n",
              "  <tbody>\n",
              "    <tr>\n",
              "      <th>0</th>\n",
              "      <td>0</td>\n",
              "      <td>2020</td>\n",
              "      <td>MI</td>\n",
              "      <td>FT</td>\n",
              "      <td>Data Scientist</td>\n",
              "      <td>70000</td>\n",
              "      <td>EUR</td>\n",
              "      <td>79833</td>\n",
              "      <td>DE</td>\n",
              "      <td>0</td>\n",
              "      <td>DE</td>\n",
              "      <td>L</td>\n",
              "    </tr>\n",
              "    <tr>\n",
              "      <th>1</th>\n",
              "      <td>1</td>\n",
              "      <td>2020</td>\n",
              "      <td>SE</td>\n",
              "      <td>FT</td>\n",
              "      <td>Machine Learning Scientist</td>\n",
              "      <td>260000</td>\n",
              "      <td>USD</td>\n",
              "      <td>260000</td>\n",
              "      <td>JP</td>\n",
              "      <td>0</td>\n",
              "      <td>JP</td>\n",
              "      <td>S</td>\n",
              "    </tr>\n",
              "    <tr>\n",
              "      <th>2</th>\n",
              "      <td>2</td>\n",
              "      <td>2020</td>\n",
              "      <td>SE</td>\n",
              "      <td>FT</td>\n",
              "      <td>Big Data Engineer</td>\n",
              "      <td>85000</td>\n",
              "      <td>GBP</td>\n",
              "      <td>109024</td>\n",
              "      <td>GB</td>\n",
              "      <td>50</td>\n",
              "      <td>GB</td>\n",
              "      <td>M</td>\n",
              "    </tr>\n",
              "    <tr>\n",
              "      <th>3</th>\n",
              "      <td>3</td>\n",
              "      <td>2020</td>\n",
              "      <td>MI</td>\n",
              "      <td>FT</td>\n",
              "      <td>Product Data Analyst</td>\n",
              "      <td>20000</td>\n",
              "      <td>USD</td>\n",
              "      <td>20000</td>\n",
              "      <td>HN</td>\n",
              "      <td>0</td>\n",
              "      <td>HN</td>\n",
              "      <td>S</td>\n",
              "    </tr>\n",
              "    <tr>\n",
              "      <th>4</th>\n",
              "      <td>4</td>\n",
              "      <td>2020</td>\n",
              "      <td>SE</td>\n",
              "      <td>FT</td>\n",
              "      <td>Machine Learning Engineer</td>\n",
              "      <td>150000</td>\n",
              "      <td>USD</td>\n",
              "      <td>150000</td>\n",
              "      <td>US</td>\n",
              "      <td>50</td>\n",
              "      <td>US</td>\n",
              "      <td>L</td>\n",
              "    </tr>\n",
              "    <tr>\n",
              "      <th>5</th>\n",
              "      <td>5</td>\n",
              "      <td>2020</td>\n",
              "      <td>EN</td>\n",
              "      <td>FT</td>\n",
              "      <td>Data Analyst</td>\n",
              "      <td>72000</td>\n",
              "      <td>USD</td>\n",
              "      <td>72000</td>\n",
              "      <td>US</td>\n",
              "      <td>100</td>\n",
              "      <td>US</td>\n",
              "      <td>L</td>\n",
              "    </tr>\n",
              "    <tr>\n",
              "      <th>6</th>\n",
              "      <td>6</td>\n",
              "      <td>2020</td>\n",
              "      <td>SE</td>\n",
              "      <td>FT</td>\n",
              "      <td>Lead Data Scientist</td>\n",
              "      <td>190000</td>\n",
              "      <td>USD</td>\n",
              "      <td>190000</td>\n",
              "      <td>US</td>\n",
              "      <td>100</td>\n",
              "      <td>US</td>\n",
              "      <td>S</td>\n",
              "    </tr>\n",
              "    <tr>\n",
              "      <th>7</th>\n",
              "      <td>8</td>\n",
              "      <td>2020</td>\n",
              "      <td>MI</td>\n",
              "      <td>FT</td>\n",
              "      <td>Business Data Analyst</td>\n",
              "      <td>135000</td>\n",
              "      <td>USD</td>\n",
              "      <td>135000</td>\n",
              "      <td>US</td>\n",
              "      <td>100</td>\n",
              "      <td>US</td>\n",
              "      <td>L</td>\n",
              "    </tr>\n",
              "    <tr>\n",
              "      <th>8</th>\n",
              "      <td>9</td>\n",
              "      <td>2020</td>\n",
              "      <td>SE</td>\n",
              "      <td>FT</td>\n",
              "      <td>Lead Data Engineer</td>\n",
              "      <td>125000</td>\n",
              "      <td>USD</td>\n",
              "      <td>125000</td>\n",
              "      <td>NZ</td>\n",
              "      <td>50</td>\n",
              "      <td>NZ</td>\n",
              "      <td>S</td>\n",
              "    </tr>\n",
              "    <tr>\n",
              "      <th>9</th>\n",
              "      <td>10</td>\n",
              "      <td>2020</td>\n",
              "      <td>EN</td>\n",
              "      <td>FT</td>\n",
              "      <td>Data Scientist</td>\n",
              "      <td>45000</td>\n",
              "      <td>EUR</td>\n",
              "      <td>51321</td>\n",
              "      <td>FR</td>\n",
              "      <td>0</td>\n",
              "      <td>FR</td>\n",
              "      <td>S</td>\n",
              "    </tr>\n",
              "  </tbody>\n",
              "</table>\n",
              "</div>"
            ],
            "text/plain": [
              "   ...1  work_year experience_level employment_type  \\\n",
              "0     0       2020               MI              FT   \n",
              "1     1       2020               SE              FT   \n",
              "2     2       2020               SE              FT   \n",
              "3     3       2020               MI              FT   \n",
              "4     4       2020               SE              FT   \n",
              "5     5       2020               EN              FT   \n",
              "6     6       2020               SE              FT   \n",
              "7     8       2020               MI              FT   \n",
              "8     9       2020               SE              FT   \n",
              "9    10       2020               EN              FT   \n",
              "\n",
              "                    job_title  salary salary_currency  salary_in_usd  \\\n",
              "0              Data Scientist   70000             EUR          79833   \n",
              "1  Machine Learning Scientist  260000             USD         260000   \n",
              "2           Big Data Engineer   85000             GBP         109024   \n",
              "3        Product Data Analyst   20000             USD          20000   \n",
              "4   Machine Learning Engineer  150000             USD         150000   \n",
              "5                Data Analyst   72000             USD          72000   \n",
              "6         Lead Data Scientist  190000             USD         190000   \n",
              "7       Business Data Analyst  135000             USD         135000   \n",
              "8          Lead Data Engineer  125000             USD         125000   \n",
              "9              Data Scientist   45000             EUR          51321   \n",
              "\n",
              "  employee_residence  remote_ratio company_location company_size  \n",
              "0                 DE             0               DE            L  \n",
              "1                 JP             0               JP            S  \n",
              "2                 GB            50               GB            M  \n",
              "3                 HN             0               HN            S  \n",
              "4                 US            50               US            L  \n",
              "5                 US           100               US            L  \n",
              "6                 US           100               US            S  \n",
              "7                 US           100               US            L  \n",
              "8                 NZ            50               NZ            S  \n",
              "9                 FR             0               FR            S  "
            ]
          },
          "execution_count": 3,
          "metadata": {},
          "output_type": "execute_result"
        }
      ],
      "source": [
        "salaries.head(10)\n",
        "\n",
        "#Analyze how data scientist salaries varies in relation to\n",
        "#EXPERIENCE (experience_level), COMPANY SIZE (company_size), and JOB (job_title)"
      ]
    },
    {
      "cell_type": "code",
      "execution_count": 4,
      "metadata": {
        "id": "orR8QM5svOIh"
      },
      "outputs": [
        {
          "data": {
            "text/plain": [
              "count       581.000000\n",
              "mean     115601.769363\n",
              "std       70607.253360\n",
              "min        2859.000000\n",
              "25%       66022.000000\n",
              "50%      105000.000000\n",
              "75%      150260.000000\n",
              "max      600000.000000\n",
              "Name: salary_in_usd, dtype: float64"
            ]
          },
          "execution_count": 4,
          "metadata": {},
          "output_type": "execute_result"
        }
      ],
      "source": [
        "salaries['salary_in_usd'].describe()"
      ]
    },
    {
      "cell_type": "code",
      "execution_count": 5,
      "metadata": {},
      "outputs": [
        {
          "name": "stdout",
          "output_type": "stream",
          "text": [
            "Range: 597141\n",
            "Interquartile Range: 84238.0\n"
          ]
        }
      ],
      "source": [
        "minimum = np.min(salaries['salary_in_usd'])\n",
        "q1 = np.percentile(salaries[\"salary_in_usd\"], 25)\n",
        "q3 = np.percentile(salaries[\"salary_in_usd\"], 75)\n",
        "maximum = np.max(salaries[\"salary_in_usd\"])\n",
        "\n",
        "print(f\"Range: {maximum-minimum}\")\n",
        "print(f\"Interquartile Range: {q3-q1}\")"
      ]
    },
    {
      "cell_type": "code",
      "execution_count": 6,
      "metadata": {},
      "outputs": [
        {
          "data": {
            "text/plain": [
              "49"
            ]
          },
          "execution_count": 6,
          "metadata": {},
          "output_type": "execute_result"
        }
      ],
      "source": [
        "len(salaries['job_title'].unique())"
      ]
    },
    {
      "cell_type": "code",
      "execution_count": 7,
      "metadata": {},
      "outputs": [
        {
          "data": {
            "text/plain": [
              "job_title\n",
              "Data Scientist                              134\n",
              "Data Engineer                               129\n",
              "Data Analyst                                 97\n",
              "Machine Learning Engineer                    39\n",
              "Research Scientist                           16\n",
              "Data Architect                               11\n",
              "Data Science Manager                         10\n",
              "Machine Learning Scientist                    8\n",
              "Data Analytics Manager                        7\n",
              "Director of Data Science                      7\n",
              "Principal Data Scientist                      7\n",
              "Data Science Consultant                       7\n",
              "AI Scientist                                  6\n",
              "Big Data Engineer                             6\n",
              "Lead Data Engineer                            6\n",
              "Computer Vision Engineer                      6\n",
              "BI Data Analyst                               5\n",
              "Head of Data                                  5\n",
              "Applied Data Scientist                        5\n",
              "Data Engineering Manager                      5\n",
              "ML Engineer                                   4\n",
              "Analytics Engineer                            4\n",
              "Business Data Analyst                         4\n",
              "Head of Data Science                          4\n",
              "Data Analytics Engineer                       4\n",
              "Applied Machine Learning Scientist            4\n",
              "Machine Learning Infrastructure Engineer      3\n",
              "Machine Learning Developer                    3\n",
              "Principal Data Engineer                       3\n",
              "Data Science Engineer                         3\n",
              "Computer Vision Software Engineer             3\n",
              "Director of Data Engineering                  2\n",
              "Financial Data Analyst                        2\n",
              "Cloud Data Engineer                           2\n",
              "Product Data Analyst                          2\n",
              "Lead Data Scientist                           2\n",
              "ETL Developer                                 2\n",
              "Lead Data Analyst                             2\n",
              "Principal Data Analyst                        2\n",
              "NLP Engineer                                  1\n",
              "Lead Machine Learning Engineer                1\n",
              "Staff Data Scientist                          1\n",
              "3D Computer Vision Researcher                 1\n",
              "Big Data Architect                            1\n",
              "Finance Data Analyst                          1\n",
              "Data Specialist                               1\n",
              "Marketing Data Analyst                        1\n",
              "Machine Learning Manager                      1\n",
              "Data Analytics Lead                           1\n",
              "Name: count, dtype: int64"
            ]
          },
          "execution_count": 7,
          "metadata": {},
          "output_type": "execute_result"
        }
      ],
      "source": [
        "salaries['job_title'].value_counts()"
      ]
    },
    {
      "cell_type": "code",
      "execution_count": 8,
      "metadata": {},
      "outputs": [
        {
          "data": {
            "text/plain": [
              "experience_level\n",
              "SE    275\n",
              "MI    201\n",
              "EN     80\n",
              "EX     25\n",
              "Name: count, dtype: int64"
            ]
          },
          "execution_count": 8,
          "metadata": {},
          "output_type": "execute_result"
        }
      ],
      "source": [
        "salaries['experience_level'].value_counts()"
      ]
    },
    {
      "cell_type": "code",
      "execution_count": 9,
      "metadata": {},
      "outputs": [
        {
          "data": {
            "text/plain": [
              "company_size\n",
              "M    321\n",
              "L    182\n",
              "S     78\n",
              "Name: count, dtype: int64"
            ]
          },
          "execution_count": 9,
          "metadata": {},
          "output_type": "execute_result"
        }
      ],
      "source": [
        "salaries['company_size'].value_counts()"
      ]
    },
    {
      "cell_type": "code",
      "execution_count": 10,
      "metadata": {},
      "outputs": [
        {
          "data": {
            "image/png": "[encoded data removed]",
            "text/plain": [
              "<Figure size 800x400 with 1 Axes>"
            ]
          },
          "metadata": {},
          "output_type": "display_data"
        }
      ],
      "source": [
        "plt.figure(figsize=(8, 4))\n",
        "plt.hist(salaries[\"salary_in_usd\"], bins=50)\n",
        "plt.title(f'General Salary Distribution')\n",
        "plt.xlabel(\"Salary in USD\")\n",
        "plt.ylabel('Frequency')\n",
        "plt.show()"
      ]
    },
    {
      "cell_type": "markdown",
      "metadata": {},
      "source": [
        "## Section 1 Analysis:\n",
        "After viewing a few rows and columns in our data set, we took a closer look at each of the features of interest. Company size, experience level, and job title are all categorical variables with 3 types, 4 types, and 49 types respectively. While salary has three associated columns (salary, salary_in_usd, and salary currency), we chose to use the column salary_in_usd for further analysis, as it had been normalized into a singular currency type. The general salary distribution is fairly normal, with a noticeable outlier around 600000."
      ]
    },
    {
      "cell_type": "markdown",
      "metadata": {},
      "source": [
        "# Section 2: Effect of Experience on Salary"
      ]
    },
    {
      "cell_type": "code",
      "execution_count": 11,
      "metadata": {},
      "outputs": [
        {
          "data": {
            "image/png": "[encoded data removed]",
            "text/plain": [
              "<Figure size 640x480 with 1 Axes>"
            ]
          },
          "metadata": {},
          "output_type": "display_data"
        }
      ],
      "source": [
        "experience = salaries['experience_level'].unique()\n",
        "\n",
        "# Plot a histogram for each experience level\n",
        "for level in experience:\n",
        "    plt.hist(salaries[salaries['experience_level'] == level]['salary_in_usd'],\n",
        "             bins=20, alpha=0.5, label=level)\n",
        "\n",
        "plt.title('Salary Distribution by Experience Level')\n",
        "plt.xlabel('Salary in USD')\n",
        "plt.ylabel('Frequency')\n",
        "plt.legend(title='Experience Level')\n",
        "plt.show()"
      ]
    },
    {
      "cell_type": "code",
      "execution_count": 12,
      "metadata": {},
      "outputs": [
        {
          "data": {
            "text/plain": [
              "count        80.000000\n",
              "mean      65249.812500\n",
              "std       44934.400602\n",
              "min        4000.000000\n",
              "25%       35451.000000\n",
              "50%       59551.000000\n",
              "75%       90000.000000\n",
              "max      250000.000000\n",
              "Name: salary_in_usd, dtype: float64"
            ]
          },
          "execution_count": 12,
          "metadata": {},
          "output_type": "execute_result"
        }
      ],
      "source": [
        "salaries[salaries['experience_level'] == 'EN']['salary_in_usd'].describe()"
      ]
    },
    {
      "cell_type": "code",
      "execution_count": 13,
      "metadata": {},
      "outputs": [
        {
          "data": {
            "text/plain": [
              "count       201.000000\n",
              "mean      91077.527363\n",
              "std       64348.005809\n",
              "min        2859.000000\n",
              "25%       51519.000000\n",
              "50%       78526.000000\n",
              "75%      115000.000000\n",
              "max      450000.000000\n",
              "Name: salary_in_usd, dtype: float64"
            ]
          },
          "execution_count": 13,
          "metadata": {},
          "output_type": "execute_result"
        }
      ],
      "source": [
        "salaries[salaries['experience_level'] == 'MI']['salary_in_usd'].describe()"
      ]
    },
    {
      "cell_type": "code",
      "execution_count": 14,
      "metadata": {},
      "outputs": [
        {
          "data": {
            "text/plain": [
              "count       275.000000\n",
              "mean     140119.658182\n",
              "std       57025.093567\n",
              "min       18907.000000\n",
              "25%      101185.000000\n",
              "50%      136620.000000\n",
              "75%      170000.000000\n",
              "max      412000.000000\n",
              "Name: salary_in_usd, dtype: float64"
            ]
          },
          "execution_count": 14,
          "metadata": {},
          "output_type": "execute_result"
        }
      ],
      "source": [
        "salaries[salaries['experience_level'] == 'SE']['salary_in_usd'].describe()"
      ]
    },
    {
      "cell_type": "code",
      "execution_count": 15,
      "metadata": {},
      "outputs": [
        {
          "data": {
            "text/plain": [
              "count        25.000000\n",
              "mean     204206.160000\n",
              "std      116829.242333\n",
              "min       69741.000000\n",
              "25%      130026.000000\n",
              "50%      175000.000000\n",
              "75%      235000.000000\n",
              "max      600000.000000\n",
              "Name: salary_in_usd, dtype: float64"
            ]
          },
          "execution_count": 15,
          "metadata": {},
          "output_type": "execute_result"
        }
      ],
      "source": [
        "salaries[salaries['experience_level'] == 'EX']['salary_in_usd'].describe()"
      ]
    },
    {
      "cell_type": "code",
      "execution_count": 16,
      "metadata": {},
      "outputs": [
        {
          "data": {
            "text/plain": [
              "<Figure size 800x600 with 0 Axes>"
            ]
          },
          "metadata": {},
          "output_type": "display_data"
        },
        {
          "data": {
            "image/png": "[encoded data removed]",
            "text/plain": [
              "<Figure size 640x480 with 1 Axes>"
            ]
          },
          "metadata": {},
          "output_type": "display_data"
        }
      ],
      "source": [
        "plt.figure(figsize=(8, 6))\n",
        "salaries.boxplot(column='salary_in_usd', by='experience_level', vert=False, grid = False)\n",
        "plt.title('Salary in USD by Experience Level')\n",
        "plt.xlabel('Salary in USD')\n",
        "plt.ylabel('Experience Level')\n",
        "plt.show()"
      ]
    },
    {
      "cell_type": "markdown",
      "metadata": {},
      "source": [
        "## Section 2: Analysis\n",
        "The histogram visualizes the frequency of salaries for each experience level. The SE experience level appears to have the highest overall salary distribution with 275 reported salaries with an IQR of 68815.00. This salary is lower than some of the other average salaries, but because of the high sample count it represents a higher overall salary compared to the other experience levels. The EX experience level has the highest IQR of 104974.00 but the EX sample is much smaller."
      ]
    },
    {
      "cell_type": "markdown",
      "metadata": {},
      "source": [
        "# Section 3: Impact of Company Size on Salary"
      ]
    },
    {
      "cell_type": "code",
      "execution_count": 17,
      "metadata": {
        "colab": {
          "base_uri": "https://localhost:8080/",
          "height": 472
        },
        "id": "MSWcgQOlwN1e",
        "outputId": "8cb0c7d0-e562-4835-eaa5-f45fb92d2080"
      },
      "outputs": [
        {
          "data": {
            "image/png": "[encoded data removed]",
            "text/plain": [
              "<Figure size 640x480 with 1 Axes>"
            ]
          },
          "metadata": {},
          "output_type": "display_data"
        }
      ],
      "source": [
        "company_size = salaries['company_size'].unique()\n",
        "\n",
        "# Plot a histogram for each experience level\n",
        "for level in company_size:\n",
        "    plt.hist(salaries[salaries['company_size'] == level]['salary_in_usd'],\n",
        "             bins=20, alpha=0.5, label=level)\n",
        "\n",
        "plt.title('Salary Distribution by Company Size')\n",
        "plt.xlabel('Salary in USD')\n",
        "plt.ylabel('Frequency')\n",
        "plt.legend(title='Company Size')\n",
        "plt.show()"
      ]
    },
    {
      "cell_type": "code",
      "execution_count": 18,
      "metadata": {},
      "outputs": [
        {
          "data": {
            "text/plain": [
              "count        78.000000\n",
              "mean      79817.833333\n",
              "std       64581.554758\n",
              "min        2859.000000\n",
              "25%       45653.500000\n",
              "50%       67881.500000\n",
              "75%      102370.000000\n",
              "max      416000.000000\n",
              "Name: salary_in_usd, dtype: float64"
            ]
          },
          "execution_count": 18,
          "metadata": {},
          "output_type": "execute_result"
        }
      ],
      "source": [
        "salaries[salaries['company_size'] == 'S']['salary_in_usd'].describe()"
      ]
    },
    {
      "cell_type": "code",
      "execution_count": 19,
      "metadata": {},
      "outputs": [
        {
          "data": {
            "text/plain": [
              "count       321.000000\n",
              "mean     118350.323988\n",
              "std       58590.477351\n",
              "min        4000.000000\n",
              "25%       78526.000000\n",
              "50%      115000.000000\n",
              "75%      154000.000000\n",
              "max      450000.000000\n",
              "Name: salary_in_usd, dtype: float64"
            ]
          },
          "execution_count": 19,
          "metadata": {},
          "output_type": "execute_result"
        }
      ],
      "source": [
        "salaries[salaries['company_size'] == 'M']['salary_in_usd'].describe()"
      ]
    },
    {
      "cell_type": "code",
      "execution_count": 20,
      "metadata": {},
      "outputs": [
        {
          "data": {
            "text/plain": [
              "count       182.000000\n",
              "mean     126090.016484\n",
              "std       86348.230843\n",
              "min        5882.000000\n",
              "25%       69999.250000\n",
              "50%      109500.000000\n",
              "75%      160000.000000\n",
              "max      600000.000000\n",
              "Name: salary_in_usd, dtype: float64"
            ]
          },
          "execution_count": 20,
          "metadata": {},
          "output_type": "execute_result"
        }
      ],
      "source": [
        "salaries[salaries['company_size'] == 'L']['salary_in_usd'].describe()"
      ]
    },
    {
      "cell_type": "code",
      "execution_count": 21,
      "metadata": {},
      "outputs": [
        {
          "data": {
            "text/plain": [
              "<Figure size 800x600 with 0 Axes>"
            ]
          },
          "metadata": {},
          "output_type": "display_data"
        },
        {
          "data": {
            "image/png": "[encoded data removed]",
            "text/plain": [
              "<Figure size 640x480 with 1 Axes>"
            ]
          },
          "metadata": {},
          "output_type": "display_data"
        }
      ],
      "source": [
        "plt.figure(figsize=(8, 6))\n",
        "salaries.boxplot(column='salary_in_usd', by='company_size', vert=False, grid = False)\n",
        "plt.title('Salary in USD by Company Size')\n",
        "plt.xlabel('Salary in USD')\n",
        "plt.ylabel('Company Size')\n",
        "plt.show()"
      ]
    },
    {
      "cell_type": "markdown",
      "metadata": {},
      "source": [
        "## Section 3 Analysis\n",
        "It would appear from the histogram that the highest salaries are in the medium sized companies and when you compare the histogram visualization with the boxplot and 5 number sumary, you can see that the medium sized company does have the highest salary distribution with an IQR of 75438.00. The medium company sample data has 321 reported salaries and a dense cluster which shows that the average salary is higher and more consistent than in the other company sizes."
      ]
    },
    {
      "cell_type": "markdown",
      "metadata": {},
      "source": [
        "# Section 4: Job Title Impact On Salary"
      ]
    },
    {
      "cell_type": "code",
      "execution_count": 22,
      "metadata": {
        "colab": {
          "base_uri": "https://localhost:8080/",
          "height": 503
        },
        "id": "HMYs5hUExClw",
        "outputId": "9da9db54-d8fe-4413-9660-ac85a8227adf"
      },
      "outputs": [
        {
          "name": "stderr",
          "output_type": "stream",
          "text": [
            "C:\\Users\\keele\\AppData\\Local\\Temp\\ipykernel_9584\\3554595196.py:16: MatplotlibDeprecationWarning: The 'labels' parameter of boxplot() has been renamed 'tick_labels' since Matplotlib 3.9; support for the old name will be dropped in 3.11.\n",
            "  plt.boxplot([analysts['salary_in_usd'], engineers['salary_in_usd'], managers['salary_in_usd'], scientists['salary_in_usd']], labels=['Analyst', 'Engineer', 'Manager', 'Scientist'])\n",
            "C:\\Users\\keele\\AppData\\Local\\Temp\\ipykernel_9584\\3554595196.py:22: UserWarning: No artists with labels found to put in legend.  Note that artists whose label start with an underscore are ignored when legend() is called with no argument.\n",
            "  plt.legend(title='Company Size')\n"
          ]
        },
        {
          "data": {
            "image/png": "[encoded data removed]",
            "text/plain": [
              "<Figure size 2000x600 with 1 Axes>"
            ]
          },
          "metadata": {},
          "output_type": "display_data"
        }
      ],
      "source": [
        "company_size = salaries['job_title'].unique()\n",
        "plt.figure(figsize=(20, 6))  # Width=10, Height=6\n",
        "# Plot a histogram for each experience level\n",
        "\n",
        "analysts = salaries[salaries['job_title'].str.contains(\"Analyst\")]\n",
        "engineers = salaries[salaries['job_title'].str.contains(\"Engineer\")]\n",
        "managers = salaries[salaries['job_title'].str.contains(\"Manager\")]\n",
        "scientists = salaries[salaries['job_title'].str.contains(\"Scientist\")]\n",
        "\n",
        "\n",
        "#for level in company_size:\n",
        "    #if (len(analysts[analysts['job_title'] == level]) == 0): continue\n",
        "    #plt.box(analysts[analysts['job_title'] == level]['salary_in_usd'],\n",
        "             #bins=10, alpha=0.5, label=level)\n",
        "\n",
        "plt.boxplot([analysts['salary_in_usd'], engineers['salary_in_usd'], managers['salary_in_usd'], scientists['salary_in_usd']], labels=['Analyst', 'Engineer', 'Manager', 'Scientist'])\n",
        "\n",
        "\n",
        "plt.title('Salary Distribution by Company Size')\n",
        "plt.xlabel('Job Title')\n",
        "plt.ylabel('Salary')\n",
        "plt.legend(title='Company Size')\n",
        "plt.show()"
      ]
    },
    {
      "cell_type": "markdown",
      "metadata": {},
      "source": [
        "## Section 4 Analysis\n",
        "Observing the boxplot, we can see that the highest salaries are in the job titles of scientist and engineer. The scientist job title has higher salary outliers, but since these are outliers they do not represent a majority of the salaries in the scientist job title. The Engineer job title has a whisker extending slightly higher than scientist indicating that the 4th quartile has a higher frequency of higher salaries than scientist, therefore indicating from the sampling, that the engineer job title has a higher average salary than the scientist job title.\n"
      ]
    },
    {
      "cell_type": "markdown",
      "metadata": {},
      "source": [
        "# Section 5: Interactions between variables\n"
      ]
    },
    {
      "cell_type": "code",
      "execution_count": 43,
      "metadata": {},
      "outputs": [
        {
          "name": "stdout",
          "output_type": "stream",
          "text": [
            "Job\t\t\t\t\tSmall\t\tMed\t\tLarge\n",
            "Data Scientist                         53676.8        130414.4        111787.0\n",
            "\n",
            "Machine Learning Scientist            190000.0         82500.0        180575.0\n",
            "\n",
            "Big Data Engineer                      66023.5         84512.0         37941.0\n",
            "\n",
            "Product Data Analyst                   20000.0             0.0          6072.0\n",
            "\n",
            "Machine Learning Engineer              82695.3        126731.9        108129.5\n",
            "\n",
            "Data Analyst                           47759.0         99545.3         81777.6\n",
            "\n",
            "Lead Data Scientist                   190000.0             0.0        115000.0\n",
            "\n",
            "Business Data Analyst                      0.0             0.0         91253.5\n",
            "\n",
            "Lead Data Engineer                    126586.8         56000.0        276000.0\n",
            "\n",
            "Lead Data Analyst                          0.0             0.0        128500.0\n",
            "\n",
            "Data Science Consultant                78858.0          5707.0         81221.3\n",
            "\n",
            "Data Engineer                          71273.2        120483.4        106306.8\n",
            "\n",
            "BI Data Analyst                        32136.0         99000.0        150000.0\n",
            "\n",
            "Director of Data Science              168000.0        130026.0        213498.4\n",
            "\n",
            "Research Scientist                     53369.0        192153.0         96465.0\n",
            "\n",
            "Machine Learning Manager                   0.0             0.0        117104.0\n",
            "\n",
            "Data Engineering Manager               59303.0             0.0        139208.2\n",
            "\n",
            "Machine Learning Infrastructure Engineer             0.0        122590.0         58255.0\n",
            "\n",
            "ML Engineer                           135983.0             0.0        145991.5\n",
            "\n",
            "AI Scientist                           28948.0         66000.0        127500.0\n",
            "\n",
            "Computer Vision Engineer               44304.5         44476.8             0.0\n",
            "\n",
            "Principal Data Scientist              416000.0        161565.7        202000.0\n",
            "\n",
            "Data Science Manager                       0.0        173530.5        177500.0\n",
            "\n",
            "Head of Data                           32974.0        200000.0        189279.7\n",
            "\n",
            "3D Computer Vision Researcher              0.0          5409.0             0.0\n",
            "\n",
            "Data Analytics Engineer                    0.0         35000.0         94598.5\n",
            "\n",
            "Applied Data Scientist                     0.0             0.0        175655.0\n",
            "\n",
            "Marketing Data Analyst                     0.0             0.0         88654.0\n",
            "\n",
            "Cloud Data Engineer                   160000.0             0.0         89294.0\n",
            "\n",
            "Financial Data Analyst                     0.0             0.0        275000.0\n",
            "\n",
            "Computer Vision Software Engineer        122873.0         70000.0             0.0\n",
            "\n",
            "Director of Data Engineering               0.0        113476.0        200000.0\n",
            "\n",
            "Data Science Engineer                      0.0         40189.0         93610.5\n",
            "\n",
            "Principal Data Engineer                    0.0        200000.0        392500.0\n",
            "\n",
            "Machine Learning Developer            100000.0         78791.0             0.0\n",
            "\n",
            "Applied Machine Learning Scientist             0.0         35137.5        249000.0\n",
            "\n",
            "Data Analytics Manager                     0.0        125988.0        130000.0\n",
            "\n",
            "Head of Data Science                  110000.0        158958.3             0.0\n",
            "\n",
            "Data Specialist                            0.0             0.0        165000.0\n",
            "\n",
            "Data Architect                             0.0        182076.6        166666.7\n",
            "\n",
            "Finance Data Analyst                       0.0             0.0         61896.0\n",
            "\n",
            "Principal Data Analyst                 75000.0        170000.0             0.0\n",
            "\n",
            "Big Data Architect                         0.0         99703.0             0.0\n",
            "\n",
            "Staff Data Scientist                       0.0        105000.0             0.0\n",
            "\n",
            "Analytics Engineer                         0.0        175000.0             0.0\n",
            "\n",
            "ETL Developer                              0.0         54957.0             0.0\n",
            "\n",
            "NLP Engineer                               0.0             0.0         37236.0\n",
            "\n",
            "Lead Machine Learning Engineer             0.0         87932.0             0.0\n",
            "\n",
            "Data Analytics Lead                        0.0             0.0        405000.0\n",
            "\n"
          ]
        }
      ],
      "source": [
        "jobs = salaries['job_title'].unique()\n",
        "avgs = []\n",
        "for job in jobs:\n",
        "    arr = salaries[salaries['job_title'] == job]\n",
        "    s = arr[arr['company_size'] == 'S']\n",
        "    m = arr[arr['company_size'] == 'M']\n",
        "    l = arr[arr['company_size'] == 'L']\n",
        "\n",
        "    if(len(s) > 0): \n",
        "        avg_sm = round(sum(s['salary_in_usd']) / len(s), 1)\n",
        "    else:\n",
        "        avg_sm = 0.0\n",
        "\n",
        "    if(len(m) > 0): \n",
        "        avg_md = round(sum(m['salary_in_usd']) / len(m), 1)\n",
        "    else:\n",
        "        avg_md = 0.0\n",
        "\n",
        "    if(len(l) > 0):\n",
        "        avg_lg = round(sum(l['salary_in_usd']) / len(l), 1)\n",
        "    else:\n",
        "        avg_lg = 0.0\n",
        "\n",
        "    avgs.append((job, avg_sm, avg_md, avg_lg))\n",
        "\n",
        "print(\"Job\\t\\t\\t\\t\\tSmall\\t\\tMed\\t\\tLarge\")\n",
        "for job, s, m, l in avgs:\n",
        "    print(f\"{job:30s}      {s:10.1f}      {m:10.1f}      {l:10.1f}\\n\")\n"
      ]
    },
    {
      "cell_type": "markdown",
      "metadata": {},
      "source": [
        "## Section 5 Analysis\n",
        "Comparing the company sizes with the job titles and observing the salaries yeilds interesting results that support some of the previous observations individually. Medium sized companies had a tendency to pay more than small and large companies, and comparing this side-by-side, we can see that the the same position in some medium sized companies makes more than 100,000 more in some instances. Comparing all of the job titles and company sizes side-by-side allows us to see each comparison with more perspective."
      ]
    },
    {
      "cell_type": "markdown",
      "metadata": {},
      "source": [
        "# Section 6: Conclusion\n",
        "Observing all of the data together after splitting it apart and observing the individual features is very informative because the two way graph in the previous question can get very cluttered. Reviewing our findings, the relationship between company size and salary is the most significant because of the density of data within the IQR being so high. We also observed that the relationships between engineer and salary, and senior-level work experience yeilded higher salary frequencies. In conclusion, working as a senior-level engineer at a mediuj sized company will likely yield the highest probability of a high salary."
      ]
    },
    {
      "cell_type": "markdown",
      "metadata": {},
      "source": []
    },
    {
      "cell_type": "markdown",
      "metadata": {},
      "source": [
        "."
      ]
    }
  ],
  "metadata": {
    "colab": {
      "provenance": []
    },
    "kernelspec": {
      "display_name": "Python 3",
      "name": "python3"
    },
    "language_info": {
      "codemirror_mode": {
        "name": "ipython",
        "version": 3
      },
      "file_extension": ".py",
      "mimetype": "text/x-python",
      "name": "python",
      "nbconvert_exporter": "python",
      "pygments_lexer": "ipython3",
      "version": "3.12.5"
    }
  },
  "nbformat": 4,
  "nbformat_minor": 0
}
